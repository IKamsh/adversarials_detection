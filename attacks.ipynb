{
 "cells": [
  {
   "cell_type": "code",
   "execution_count": 1,
   "metadata": {},
   "outputs": [],
   "source": [
    "import foolbox\n",
    "import torch\n",
    "import torchvision\n",
    "import torchvision.transforms as transforms\n",
    "import numpy as np\n",
    "\n",
    "device = 'cuda' if torch.cuda.is_available() else 'cpu'"
   ]
  },
  {
   "cell_type": "code",
   "execution_count": 26,
   "metadata": {},
   "outputs": [
    {
     "name": "stdout",
     "output_type": "stream",
     "text": [
      "Files already downloaded and verified\n"
     ]
    }
   ],
   "source": [
    "transform = transforms.Compose([\n",
    "    transforms.ToTensor()\n",
    "])\n",
    "\n",
    "test = torchvision.datasets.CIFAR10(\n",
    "    root='./data', train=False, download=True, transform=transform)\n",
    "\n",
    "test_loader = torch.utils.data.DataLoader(\n",
    "    test, batch_size=100, shuffle=False, num_workers=4)"
   ]
  },
  {
   "cell_type": "code",
   "execution_count": 35,
   "metadata": {},
   "outputs": [],
   "source": [
    "def generate_adversarials(attack, dataloader, save_name=None):\n",
    "    \n",
    "    adversarials = []\n",
    "    for x, y in dataloader:\n",
    "        advs = attack(x.numpy(), y.numpy())\n",
    "        adversarials.extend(advs)\n",
    "        \n",
    "    adversarials = np.array(adversarials)\n",
    "    \n",
    "    if save_name:\n",
    "        np.save(f\"adversarials/{save_name}\", adversarials)\n",
    "        \n",
    "    return adversarials"
   ]
  },
  {
   "cell_type": "markdown",
   "metadata": {},
   "source": [
    "### Loading model"
   ]
  },
  {
   "cell_type": "code",
   "execution_count": 23,
   "metadata": {},
   "outputs": [
    {
     "data": {
      "text/plain": [
       "<All keys matched successfully>"
      ]
     },
     "execution_count": 23,
     "metadata": {},
     "output_type": "execute_result"
    }
   ],
   "source": [
    "from vgg import *\n",
    "\n",
    "VGG_16 = [64, 64, 'pooling', 128, 128, 'pooling', 256, 256,\n",
    "          256, 'pooling', 512, 512, 512, 'pooling', 512, 512, 512, 'pooling']\n",
    "\n",
    "net = VGG(VGG_16)\n",
    "net = net.to(device)\n",
    "net.eval()\n",
    "\n",
    "net.load_state_dict(torch.load('models_weights/vggModel'))"
   ]
  },
  {
   "cell_type": "code",
   "execution_count": 24,
   "metadata": {},
   "outputs": [],
   "source": [
    "preprocessing = dict(axis=-3)\n",
    "fmodel = foolbox.models.PyTorchModel(net, bounds=(0, 1), num_classes=10, preprocessing=preprocessing)"
   ]
  },
  {
   "cell_type": "code",
   "execution_count": 25,
   "metadata": {},
   "outputs": [],
   "source": [
    "fgsm = foolbox.attacks.FGSM(fmodel)\n",
    "ddna06 = foolbox.attacks.DecoupledDirectionNormL2Attack(fmodel, criterion=foolbox.criteria.TargetClassProbability(6, p=.6))\n",
    "ddna07 = foolbox.attacks.DecoupledDirectionNormL2Attack(fmodel, criterion=foolbox.criteria.TargetClassProbability(6, p=.7))\n",
    "ddna075 = foolbox.attacks.DecoupledDirectionNormL2Attack(fmodel, criterion=foolbox.criteria.TargetClassProbability(6, p=.75))"
   ]
  },
  {
   "cell_type": "code",
   "execution_count": 8,
   "metadata": {},
   "outputs": [
    {
     "name": "stderr",
     "output_type": "stream",
     "text": [
      "C:\\ProgramData\\Anaconda3\\lib\\site-packages\\foolbox\\attacks\\base.py:92: UserWarning: GradientSignAttack did not find an adversarial, maybe the model or the criterion is not supported by this attack.\n",
      "  warnings.warn(\n"
     ]
    }
   ],
   "source": [
    "generate_adversarials(fgsm, test_loader, 'fgsm')\n",
    "generate_adversarials(fgsm, test_loader, 'ddna06')\n",
    "generate_adversarials(fgsm, test_loader, 'ddna07')\n",
    "generate_adversarials(fgsm, test_loader, 'ddna075')"
   ]
  },
  {
   "cell_type": "markdown",
   "metadata": {},
   "source": [
    "foolbox 2.4.0 documentation\n",
    "https://foolbox.readthedocs.io/en/v2.4.0/user/examples.html"
   ]
  }
 ],
 "metadata": {
  "kernelspec": {
   "display_name": "Python 3",
   "language": "python",
   "name": "python3"
  },
  "language_info": {
   "codemirror_mode": {
    "name": "ipython",
    "version": 3
   },
   "file_extension": ".py",
   "mimetype": "text/x-python",
   "name": "python",
   "nbconvert_exporter": "python",
   "pygments_lexer": "ipython3",
   "version": "3.8.3"
  }
 },
 "nbformat": 4,
 "nbformat_minor": 4
}
