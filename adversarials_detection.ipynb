{
 "cells": [
  {
   "cell_type": "code",
   "execution_count": 2,
   "metadata": {},
   "outputs": [],
   "source": [
    "import matplotlib.pyplot as plt\n",
    "import numpy as np\n",
    "import scipy.signal\n",
    "import torch\n",
    "import torchvision\n",
    "from utils import plot_image\n",
    "import torch.nn.functional as F"
   ]
  },
  {
   "cell_type": "markdown",
   "metadata": {},
   "source": [
    "### Class labels\n",
    "airplane: 0 \\\n",
    "automobile: 1\\\n",
    "bird: 2\\\n",
    "cat: 3\\\n",
    "deer: 4\\\n",
    "dog: 5\\\n",
    "frog: 6\\\n",
    "horse: 7\\\n",
    "ship: 8\\\n",
    "truck: 9"
   ]
  },
  {
   "cell_type": "code",
   "execution_count": 3,
   "metadata": {},
   "outputs": [],
   "source": [
    "ind_to_classname = {0:'airplane',\n",
    "                    1:'automobile',\n",
    "                    2:'bird',\n",
    "                    3:'cat',\n",
    "                    4:'deer',\n",
    "                    5:'dog',\n",
    "                    6:'frog',\n",
    "                    7:'horse',\n",
    "                    8:'ship',\n",
    "                    9:'truck',\n",
    "                   }"
   ]
  },
  {
   "cell_type": "code",
   "execution_count": 5,
   "metadata": {},
   "outputs": [
    {
     "name": "stdout",
     "output_type": "stream",
     "text": [
      "Files already downloaded and verified\n"
     ]
    }
   ],
   "source": [
    "adv = np.load(\"adversarials/fgsm.npy\")\n",
    "\n",
    "transform = torchvision.transforms.Compose([\n",
    "    torchvision.transforms.ToTensor()\n",
    "])\n",
    "\n",
    "real_dataset = torchvision.datasets.CIFAR10(\n",
    "    root='./data', train=False, download=True, transform=transform)\n",
    "\n",
    "real_loader = torch.utils.data.DataLoader(\n",
    "    real_dataset, batch_size=100, shuffle=False, num_workers=4)"
   ]
  },
  {
   "cell_type": "code",
   "execution_count": null,
   "metadata": {},
   "outputs": [],
   "source": [
    "random_index = np.random.randint(0, min(len(adv), len(real_dataset)))\n",
    "random_real = torch.argmax(net(real_dataset[random_index][0].unsqueeze(0).to(device))).item()\n",
    "print(f\"network prediction: {ind_to_classname[random_real]}, real class: {ind_to_classname[real_dataset.targets[random_index]]}\")\n",
    "plot_image(real_dataset[random_index], title=\"real\")"
   ]
  },
  {
   "cell_type": "code",
   "execution_count": null,
   "metadata": {},
   "outputs": [],
   "source": [
    "random_adv = torch.argmax(net(torch.from_numpy(adv[random_index]).unsqueeze(0).to(device))).item()\n",
    "print(f\"network prediction on adversarial: {ind_to_classname[random_adv]}\")\n",
    "plot_image(adv[random_index], title='adversarial')"
   ]
  },
  {
   "cell_type": "code",
   "execution_count": 99,
   "metadata": {},
   "outputs": [
    {
     "data": {
      "text/plain": [
       "<All keys matched successfully>"
      ]
     },
     "execution_count": 99,
     "metadata": {},
     "output_type": "execute_result"
    }
   ],
   "source": [
    "from vgg import *\n",
    "\n",
    "device = 'cuda' if torch.cuda.is_available() else 'cpu'\n",
    "\n",
    "VGG_16 = [64, 64, 'pooling', 128, 128, 'pooling', 256, 256,\n",
    "          256, 'pooling', 512, 512, 512, 'pooling', 512, 512, 512, 'pooling']\n",
    "\n",
    "model = VGG(VGG_16)\n",
    "model = net.to(device)\n",
    "model.eval()\n",
    "\n",
    "model.load_state_dict(torch.load('models_weights/vggModel'))"
   ]
  },
  {
   "cell_type": "code",
   "execution_count": 128,
   "metadata": {},
   "outputs": [
    {
     "name": "stderr",
     "output_type": "stream",
     "text": [
      "<ipython-input-128-0130cff5a935>:1: UserWarning: Implicit dimension choice for softmax has been deprecated. Change the call to include dim=X as an argument.\n",
      "  F.softmax(net(torch.from_numpy(adv[3:5]).to(device)))\n"
     ]
    },
    {
     "data": {
      "text/plain": [
       "tensor([[3.5990e-01, 4.4700e-07, 5.9962e-01, 3.8904e-02, 1.2582e-03, 4.4070e-05,\n",
       "         7.0203e-05, 1.4304e-05, 1.6763e-04, 2.6480e-05],\n",
       "        [3.5204e-06, 3.0380e-07, 5.7217e-01, 3.8227e-06, 2.6843e-02, 2.2845e-06,\n",
       "         4.0097e-01, 1.0228e-06, 6.1309e-06, 3.8422e-09]], device='cuda:0',\n",
       "       grad_fn=<SoftmaxBackward>)"
      ]
     },
     "execution_count": 128,
     "metadata": {},
     "output_type": "execute_result"
    }
   ],
   "source": [
    "F.softmax(net(torch.from_numpy(adv[3:5]).to(device)))"
   ]
  },
  {
   "cell_type": "code",
   "execution_count": null,
   "metadata": {},
   "outputs": [],
   "source": [
    "class ml_adv_detector():\n",
    "    \n",
    "    def __init__(self, network, detector, params=None):\n",
    "        '''\n",
    "        network - neural network that is used to predict softmax of natural\n",
    "        and adversarial data\n",
    "        \n",
    "        detector - ML model that will distinguish will be trained on softmax\n",
    "        distributions\n",
    "        \n",
    "        params: expected to be a dictionary of detector parameters\n",
    "        '''\n",
    "        self.network = network\n",
    "        self.detector = detector\n",
    "        if params != None:\n",
    "            self.detector.set_params(params)\n",
    "        \n",
    "    def fit(self, X_real, X_adversarial):\n",
    "        '''   \n",
    "        X_real - natural data\n",
    "        \n",
    "        X_adversarial - adversarial data\n",
    "        '''\n",
    "        X = np.concatenate((model.predict(X_real), model.predict(X_adversarial)), axis=0)\n",
    "        y = np.concatenate((np.array([0] * X_real.shape[0]),\n",
    "                            np.array([1] * X_adversarial.shape[0])))\n",
    "        X, y = shuffle(X, y)\n",
    "        \n",
    "        self.detector.fit(X, y)                    \n",
    "            \n",
    "    def predict(self, X):\n",
    "        '''\n",
    "        return result of detection (1 - adversarial, 0 - natural)\n",
    "        X - data to be detected\n",
    "        '''\n",
    "        X = self.network.predict(X)\n",
    "        return np.round(self.detector.predict(X))"
   ]
  }
 ],
 "metadata": {
  "kernelspec": {
   "display_name": "Python 3",
   "language": "python",
   "name": "python3"
  },
  "language_info": {
   "codemirror_mode": {
    "name": "ipython",
    "version": 3
   },
   "file_extension": ".py",
   "mimetype": "text/x-python",
   "name": "python",
   "nbconvert_exporter": "python",
   "pygments_lexer": "ipython3",
   "version": "3.8.3"
  }
 },
 "nbformat": 4,
 "nbformat_minor": 4
}
