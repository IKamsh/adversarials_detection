{
 "cells": [
  {
   "cell_type": "code",
   "execution_count": 1,
   "metadata": {},
   "outputs": [],
   "source": [
    "import matplotlib.pyplot as plt\n",
    "import numpy as np\n",
    "import scipy.signal\n",
    "import torch\n",
    "import torchvision\n",
    "from utils import plot_image\n",
    "import torch.nn.functional as F"
   ]
  },
  {
   "cell_type": "markdown",
   "metadata": {},
   "source": [
    "### Class labels\n",
    "airplane: 0 \\\n",
    "automobile: 1\\\n",
    "bird: 2\\\n",
    "cat: 3\\\n",
    "deer: 4\\\n",
    "dog: 5\\\n",
    "frog: 6\\\n",
    "horse: 7\\\n",
    "ship: 8\\\n",
    "truck: 9"
   ]
  },
  {
   "cell_type": "code",
   "execution_count": 2,
   "metadata": {},
   "outputs": [],
   "source": [
    "ind_to_classname = {0:'airplane',\n",
    "                    1:'automobile',\n",
    "                    2:'bird',\n",
    "                    3:'cat',\n",
    "                    4:'deer',\n",
    "                    5:'dog',\n",
    "                    6:'frog',\n",
    "                    7:'horse',\n",
    "                    8:'ship',\n",
    "                    9:'truck',\n",
    "                   }"
   ]
  },
  {
   "cell_type": "code",
   "execution_count": 3,
   "metadata": {},
   "outputs": [
    {
     "name": "stdout",
     "output_type": "stream",
     "text": [
      "Files already downloaded and verified\n"
     ]
    }
   ],
   "source": [
    "adv = np.load(\"adversarials/fgsm.npy\")\n",
    "\n",
    "transform = torchvision.transforms.Compose([\n",
    "    torchvision.transforms.ToTensor()\n",
    "])\n",
    "\n",
    "real_dataset = torchvision.datasets.CIFAR10(\n",
    "    root='./data', train=False, download=True, transform=transform)\n",
    "\n",
    "real_loader = torch.utils.data.DataLoader(\n",
    "    real_dataset, batch_size=100, shuffle=False, num_workers=4)"
   ]
  },
  {
   "cell_type": "code",
   "execution_count": 4,
   "metadata": {},
   "outputs": [],
   "source": [
    "class Adv_dataset(torch.utils.data.Dataset):\n",
    "    def __init__(self, X_adv):\n",
    "        self.X = X_adv\n",
    "    \n",
    "    def __len__(self):\n",
    "        return len(self.X)\n",
    "    \n",
    "    def __getitem__(self, idx):\n",
    "        return self.X[idx], 1\n",
    "    \n",
    "adv_dataset = Adv_dataset(adv)\n",
    "adv_dataloader = torch.utils.data.DataLoader(adv_dataset, batch_size=100,\n",
    "                                            num_workers=0)"
   ]
  },
  {
   "cell_type": "code",
   "execution_count": 5,
   "metadata": {},
   "outputs": [
    {
     "data": {
      "text/plain": [
       "<All keys matched successfully>"
      ]
     },
     "execution_count": 5,
     "metadata": {},
     "output_type": "execute_result"
    }
   ],
   "source": [
    "from vgg import *\n",
    "\n",
    "device = 'cuda' if torch.cuda.is_available() else 'cpu'\n",
    "\n",
    "VGG_16 = [64, 64, 'pooling', 128, 128, 'pooling', 256, 256,\n",
    "          256, 'pooling', 512, 512, 512, 'pooling', 512, 512, 512, 'pooling']\n",
    "\n",
    "model = VGG(VGG_16)\n",
    "model = model.to(device)\n",
    "model.eval()\n",
    "\n",
    "model.load_state_dict(torch.load('models_weights/vggModel'))"
   ]
  },
  {
   "cell_type": "code",
   "execution_count": 6,
   "metadata": {},
   "outputs": [
    {
     "name": "stdout",
     "output_type": "stream",
     "text": [
      "network prediction: frog, real class: frog\n"
     ]
    },
    {
     "data": {
      "image/png": "[encoded data removed]",
      "text/plain": [
       "<Figure size 432x288 with 1 Axes>"
      ]
     },
     "metadata": {
      "needs_background": "light"
     },
     "output_type": "display_data"
    }
   ],
   "source": [
    "random_index = np.random.randint(0, min(len(adv), len(real_dataset)))\n",
    "random_real = torch.argmax(model(real_dataset[random_index][0].unsqueeze(0).to(device))).item()\n",
    "print(f\"network prediction: {ind_to_classname[random_real]}, real class: {ind_to_classname[real_dataset.targets[random_index]]}\")\n",
    "plot_image(real_dataset[random_index], title=\"real\")"
   ]
  },
  {
   "cell_type": "code",
   "execution_count": 7,
   "metadata": {},
   "outputs": [
    {
     "name": "stdout",
     "output_type": "stream",
     "text": [
      "network prediction on adversarial: cat\n"
     ]
    },
    {
     "data": {
      "image/png": "[encoded data removed]",
      "text/plain": [
       "<Figure size 432x288 with 1 Axes>"
      ]
     },
     "metadata": {
      "needs_background": "light"
     },
     "output_type": "display_data"
    }
   ],
   "source": [
    "random_adv = torch.argmax(model(torch.from_numpy(adv[random_index]).unsqueeze(0).to(device))).item()\n",
    "print(f\"network prediction on adversarial: {ind_to_classname[random_adv]}\")\n",
    "plot_image(adv[random_index], title='adversarial')"
   ]
  },
  {
   "cell_type": "code",
   "execution_count": 8,
   "metadata": {},
   "outputs": [],
   "source": [
    "from sklearn.utils import shuffle\n",
    "\n",
    "class ml_adv_detector():\n",
    "    \n",
    "    def __init__(self, network, detector, params=None):\n",
    "        '''\n",
    "        network - neural network that is used to predict softmax\n",
    "        detector - ML model with sklearn API\n",
    "        params: expected to be a dictionary of detector parameters\n",
    "        '''\n",
    "        self.network = network\n",
    "        self.detector = detector\n",
    "        if params != None:\n",
    "            self.detector.set_params(*params)\n",
    "        \n",
    "    def fit(self, X_real, X_adversarial):\n",
    "        '''   \n",
    "        X_real - torch dataloader\n",
    "        X_adversarial - torch dataloader\n",
    "        '''\n",
    "        assert type(X_real) == torch.utils.data.dataloader.DataLoader\n",
    "        assert type(X_adversarial) == torch.utils.data.dataloader.DataLoader\n",
    "        \n",
    "        X_softmax = []\n",
    "        \n",
    "        for x, y in X_real:\n",
    "            x = x.to(device)\n",
    "            outputs = F.softmax(self.network(x)).detach().cpu().numpy()\n",
    "            X_softmax.extend(outputs)\n",
    "        \n",
    "\n",
    "        for x, y in X_adversarial:\n",
    "            x = x.to(device)\n",
    "            outputs = F.softmax(self.network(x)).detach().cpu().numpy()\n",
    "            X_softmax.extend(outputs)  \n",
    "       \n",
    "        X_softmax = np.array(X_softmax)\n",
    "        \n",
    "        y = np.concatenate((np.array([0] * len(X_real.dataset)),\n",
    "                            np.array([1] * len(X_adversarial.dataset))))\n",
    "        \n",
    "        X_softmax, y = shuffle(X_softmax, y)\n",
    "        \n",
    "        self.detector.fit(X_softmax, y)                    \n",
    "            \n",
    "    def predict(self, X):\n",
    "        '''\n",
    "        return result of detection (1 - adversarial, 0 - natural)\n",
    "        X - torch dataloader\n",
    "        '''\n",
    "        X_softmax = []\n",
    "        \n",
    "        for x, y in X:\n",
    "            x = x.to(device)\n",
    "            outputs = F.softmax(self.network(x)).detach().cpu().numpy()\n",
    "            X_softmax.extend(outputs)\n",
    "        \n",
    "        \n",
    "        X_softmax = np.array(X_softmax)\n",
    "        return np.round(self.detector.predict(X_softmax))"
   ]
  },
  {
   "cell_type": "code",
   "execution_count": 10,
   "metadata": {},
   "outputs": [],
   "source": [
    "from sklearn.linear_model import LogisticRegression\n",
    "from sklearn.ensemble import RandomForestClassifier\n",
    "from detectors import *"
   ]
  },
  {
   "cell_type": "code",
   "execution_count": 9,
   "metadata": {},
   "outputs": [],
   "source": [
    "logreg_det = ML_adv_detector(model, LogisticRegression())"
   ]
  },
  {
   "cell_type": "code",
   "execution_count": 10,
   "metadata": {},
   "outputs": [
    {
     "name": "stderr",
     "output_type": "stream",
     "text": [
      "C:\\Users\\red32\\Desktop\\CS\\neural_networks\\cifar10\\detectors.py:33: UserWarning: Implicit dimension choice for softmax has been deprecated. Change the call to include dim=X as an argument.\n",
      "  outputs = F.softmax(self.network(x)).detach().cpu().numpy()\n",
      "C:\\Users\\red32\\Desktop\\CS\\neural_networks\\cifar10\\detectors.py:39: UserWarning: Implicit dimension choice for softmax has been deprecated. Change the call to include dim=X as an argument.\n",
      "  outputs = F.softmax(self.network(x)).detach().cpu().numpy()\n"
     ]
    }
   ],
   "source": [
    "logreg_det.fit(real_loader, adv_dataloader)"
   ]
  },
  {
   "cell_type": "code",
   "execution_count": 11,
   "metadata": {},
   "outputs": [
    {
     "name": "stderr",
     "output_type": "stream",
     "text": [
      "C:\\Users\\red32\\Desktop\\CS\\neural_networks\\cifar10\\detectors.py:60: UserWarning: Implicit dimension choice for softmax has been deprecated. Change the call to include dim=X as an argument.\n",
      "  outputs = F.softmax(self.network(x)).detach().cpu().numpy()\n"
     ]
    }
   ],
   "source": [
    "real_pred = logreg_det.predict(real_loader)"
   ]
  },
  {
   "cell_type": "code",
   "execution_count": 13,
   "metadata": {},
   "outputs": [
    {
     "name": "stderr",
     "output_type": "stream",
     "text": [
      "<ipython-input-8-a659bc937996>:55: UserWarning: Implicit dimension choice for softmax has been deprecated. Change the call to include dim=X as an argument.\n",
      "  outputs = F.softmax(self.network(x)).detach().cpu().numpy()\n"
     ]
    }
   ],
   "source": [
    "adv_pred = logreg_det.predict(adv_dataloader)"
   ]
  },
  {
   "cell_type": "code",
   "execution_count": 12,
   "metadata": {},
   "outputs": [
    {
     "data": {
      "text/plain": [
       "4996"
      ]
     },
     "execution_count": 12,
     "metadata": {},
     "output_type": "execute_result"
    }
   ],
   "source": [
    "real_pred.sum()"
   ]
  },
  {
   "cell_type": "code",
   "execution_count": 15,
   "metadata": {},
   "outputs": [
    {
     "data": {
      "text/plain": [
       "5890"
      ]
     },
     "execution_count": 15,
     "metadata": {},
     "output_type": "execute_result"
    }
   ],
   "source": [
    "adv_pred.sum()"
   ]
  },
  {
   "cell_type": "code",
   "execution_count": 33,
   "metadata": {},
   "outputs": [
    {
     "name": "stderr",
     "output_type": "stream",
     "text": [
      "<ipython-input-22-a659bc937996>:28: UserWarning: Implicit dimension choice for softmax has been deprecated. Change the call to include dim=X as an argument.\n",
      "  outputs = F.softmax(self.network(x)).detach().cpu().numpy()\n",
      "<ipython-input-22-a659bc937996>:34: UserWarning: Implicit dimension choice for softmax has been deprecated. Change the call to include dim=X as an argument.\n",
      "  outputs = F.softmax(self.network(x)).detach().cpu().numpy()\n"
     ]
    }
   ],
   "source": [
    "randforest_det = ml_adv_detector(model, RandomForestClassifier())\n",
    "randforest_det.fit(real_loader, adv_dataloader)"
   ]
  },
  {
   "cell_type": "code",
   "execution_count": 35,
   "metadata": {},
   "outputs": [
    {
     "name": "stderr",
     "output_type": "stream",
     "text": [
      "<ipython-input-22-a659bc937996>:55: UserWarning: Implicit dimension choice for softmax has been deprecated. Change the call to include dim=X as an argument.\n",
      "  outputs = F.softmax(self.network(x)).detach().cpu().numpy()\n"
     ]
    },
    {
     "name": "stdout",
     "output_type": "stream",
     "text": [
      "246\n"
     ]
    },
    {
     "name": "stderr",
     "output_type": "stream",
     "text": [
      "<ipython-input-22-a659bc937996>:55: UserWarning: Implicit dimension choice for softmax has been deprecated. Change the call to include dim=X as an argument.\n",
      "  outputs = F.softmax(self.network(x)).detach().cpu().numpy()\n"
     ]
    },
    {
     "name": "stdout",
     "output_type": "stream",
     "text": [
      "9488\n"
     ]
    }
   ],
   "source": [
    "print(randforest_det.predict(real_loader).sum())\n",
    "print(randforest_det.predict(adv_dataloader).sum())"
   ]
  },
  {
   "cell_type": "code",
   "execution_count": 70,
   "metadata": {},
   "outputs": [],
   "source": [
    "filt_det = Filter_detector(model)"
   ]
  },
  {
   "cell_type": "code",
   "execution_count": 71,
   "metadata": {},
   "outputs": [
    {
     "name": "stdout",
     "output_type": "stream",
     "text": [
      "(10000,)\n"
     ]
    }
   ],
   "source": [
    "prediction = filt_det.predict(real_loader)"
   ]
  },
  {
   "cell_type": "code",
   "execution_count": 72,
   "metadata": {},
   "outputs": [
    {
     "data": {
      "text/plain": [
       "2070"
      ]
     },
     "execution_count": 72,
     "metadata": {},
     "output_type": "execute_result"
    }
   ],
   "source": [
    "prediction.sum()"
   ]
  },
  {
   "cell_type": "code",
   "execution_count": 73,
   "metadata": {},
   "outputs": [
    {
     "name": "stdout",
     "output_type": "stream",
     "text": [
      "(10000,)\n"
     ]
    }
   ],
   "source": [
    "prediction = filt_det.predict(adv_dataloader)"
   ]
  },
  {
   "cell_type": "code",
   "execution_count": 74,
   "metadata": {},
   "outputs": [
    {
     "data": {
      "text/plain": [
       "8071"
      ]
     },
     "execution_count": 74,
     "metadata": {},
     "output_type": "execute_result"
    }
   ],
   "source": [
    "prediction.sum()"
   ]
  },
  {
   "cell_type": "code",
   "execution_count": null,
   "metadata": {},
   "outputs": [],
   "source": []
  }
 ],
 "metadata": {
  "kernelspec": {
   "display_name": "Python 3",
   "language": "python",
   "name": "python3"
  },
  "language_info": {
   "codemirror_mode": {
    "name": "ipython",
    "version": 3
   },
   "file_extension": ".py",
   "mimetype": "text/x-python",
   "name": "python",
   "nbconvert_exporter": "python",
   "pygments_lexer": "ipython3",
   "version": "3.8.3"
  }
 },
 "nbformat": 4,
 "nbformat_minor": 4
}
